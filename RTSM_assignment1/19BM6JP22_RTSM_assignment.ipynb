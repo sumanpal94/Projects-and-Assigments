{
 "cells": [
  {
   "cell_type": "markdown",
   "metadata": {},
   "source": [
    "# <center>Regression and Time Series (MA60056) - Spring 2020</center>"
   ]
  },
  {
   "cell_type": "markdown",
   "metadata": {},
   "source": [
    "## <center> ASSIGNMENT 1</center>"
   ]
  },
  {
   "cell_type": "markdown",
   "metadata": {},
   "source": [
    "**Suman Pal \n",
    "Roll no. 19BM6JP22\n",
    "(PGDBA)**"
   ]
  },
  {
   "cell_type": "markdown",
   "metadata": {},
   "source": [
    "**Collect the data as discussed in the class.\n",
    " Y= Height, \n",
    " X= length of palm of hand as shown in 2**"
   ]
  },
  {
   "cell_type": "code",
   "execution_count": 1,
   "metadata": {},
   "outputs": [],
   "source": [
    "data = read.csv(\"D:/Suman/PGDBA/IIT Kgp/RTSM/RTSM_data.csv\")"
   ]
  },
  {
   "cell_type": "code",
   "execution_count": 2,
   "metadata": {},
   "outputs": [],
   "source": [
    "myx = data$Palm.Length..cms.[data$Roll.Number == \"19BM6JP22\" ]\n",
    "myy = data$Height..cms.[data$Roll.Number == \"19BM6JP22\" ]\n",
    "mydata = as.data.frame(cbind(myx,myy))\n",
    "colnames(mydata) = c(\"X\",\"Y\")\n",
    "Y = data$Height..cms.[!data$Roll.Number == \"19BM6JP22\" ]\n",
    "X = data$Palm.Length..cms.[!data$Roll.Number == \"19BM6JP22\" ]"
   ]
  },
  {
   "cell_type": "markdown",
   "metadata": {},
   "source": [
    "**(1) Fit a simple liner regression model  for Y on X [don’t on your own observation]**\n"
   ]
  },
  {
   "cell_type": "code",
   "execution_count": 3,
   "metadata": {},
   "outputs": [
    {
     "data": {
      "text/plain": [
       "\n",
       "Call:\n",
       "lm(formula = Y ~ X)\n",
       "\n",
       "Residuals:\n",
       "     Min       1Q   Median       3Q      Max \n",
       "-13.1257  -4.5391  -0.7559   4.3743  16.5576 \n",
       "\n",
       "Coefficients:\n",
       "            Estimate Std. Error t value Pr(>|t|)    \n",
       "(Intercept) 141.9073     7.8562  18.063  < 2e-16 ***\n",
       "X             1.4852     0.3806   3.902 0.000266 ***\n",
       "---\n",
       "Signif. codes:  0 '***' 0.001 '**' 0.01 '*' 0.05 '.' 0.1 ' ' 1\n",
       "\n",
       "Residual standard error: 6.119 on 54 degrees of freedom\n",
       "Multiple R-squared:   0.22,\tAdjusted R-squared:  0.2055 \n",
       "F-statistic: 15.23 on 1 and 54 DF,  p-value: 0.0002662\n"
      ]
     },
     "metadata": {},
     "output_type": "display_data"
    },
    {
     "data": {
      "image/png": "[encoded data removed]",
      "text/plain": [
       "plot without title"
      ]
     },
     "metadata": {},
     "output_type": "display_data"
    }
   ],
   "source": [
    "model = lm(Y~X)\n",
    "plot(X,Y, pch = 16, col = \"blue\") \n",
    "abline(model)\n",
    "summary(model)"
   ]
  },
  {
   "cell_type": "markdown",
   "metadata": {},
   "source": [
    "Linear Regression line Y on X : 141.9073 + 1.4852*X"
   ]
  },
  {
   "cell_type": "markdown",
   "metadata": {},
   "source": [
    "**(2) Predict  your height when your palm length is known.**"
   ]
  },
  {
   "cell_type": "code",
   "execution_count": 4,
   "metadata": {},
   "outputs": [
    {
     "data": {
      "text/html": [
       "<table>\n",
       "<thead><tr><th scope=col>fit</th><th scope=col>lwr</th><th scope=col>upr</th></tr></thead>\n",
       "<tbody>\n",
       "\t<tr><td>172.3535</td><td>170.714 </td><td>173.993 </td></tr>\n",
       "</tbody>\n",
       "</table>\n"
      ],
      "text/latex": [
       "\\begin{tabular}{r|lll}\n",
       " fit & lwr & upr\\\\\n",
       "\\hline\n",
       "\t 172.3535 & 170.714  & 173.993 \\\\\n",
       "\\end{tabular}\n"
      ],
      "text/markdown": [
       "\n",
       "| fit | lwr | upr |\n",
       "|---|---|---|\n",
       "| 172.3535 | 170.714  | 173.993  |\n",
       "\n"
      ],
      "text/plain": [
       "  fit      lwr     upr    \n",
       "1 172.3535 170.714 173.993"
      ]
     },
     "metadata": {},
     "output_type": "display_data"
    }
   ],
   "source": [
    "predict(model, newdata = mydata  ,interval = \"confidence\" ) #95% CI"
   ]
  },
  {
   "cell_type": "code",
   "execution_count": 6,
   "metadata": {},
   "outputs": [
    {
     "data": {
      "text/html": [
       "<table>\n",
       "<thead><tr><th scope=col>fit</th><th scope=col>lwr</th><th scope=col>upr</th></tr></thead>\n",
       "<tbody>\n",
       "\t<tr><td>172.3535</td><td>159.9766</td><td>184.7304</td></tr>\n",
       "</tbody>\n",
       "</table>\n"
      ],
      "text/latex": [
       "\\begin{tabular}{r|lll}\n",
       " fit & lwr & upr\\\\\n",
       "\\hline\n",
       "\t 172.3535 & 159.9766 & 184.7304\\\\\n",
       "\\end{tabular}\n"
      ],
      "text/markdown": [
       "\n",
       "| fit | lwr | upr |\n",
       "|---|---|---|\n",
       "| 172.3535 | 159.9766 | 184.7304 |\n",
       "\n"
      ],
      "text/plain": [
       "  fit      lwr      upr     \n",
       "1 172.3535 159.9766 184.7304"
      ]
     },
     "metadata": {},
     "output_type": "display_data"
    }
   ],
   "source": [
    "predict(model, newdata = mydata, interval = 'prediction') #95% Prediction Interval"
   ]
  },
  {
   "cell_type": "markdown",
   "metadata": {},
   "source": [
    "**3) Test for Ho : Bo =0 vs Bo != 0 at level 0.05**"
   ]
  },
  {
   "cell_type": "code",
   "execution_count": 7,
   "metadata": {},
   "outputs": [
    {
     "name": "stdout",
     "output_type": "stream",
     "text": [
      "[1] \"Interncept value =  141.90731264563\"\n",
      "[1] \"Standard Error of intercept =  7.85617522367301\"\n",
      "[1] \"t-value =  18.0631552384449\"\n",
      "[1] \"p-value = 1.50531361840329e-24\"\n"
     ]
    }
   ],
   "source": [
    "print(paste(\"Interncept value = \" , model$coefficients[1]))\n",
    "print(paste(\"Standard Error of intercept = \" , summary(model)$coefficients[1,2]))\n",
    "print(paste(\"t-value = \",summary(model)$coefficients[1,3]))\n",
    "print(paste(\"p-value =\",summary(model)$coefficients[1,4] ))"
   ]
  },
  {
   "cell_type": "markdown",
   "metadata": {},
   "source": [
    "**Ans:** : From the model, <br> Bo (intercept) = 141.9073. <br>\n",
    "                           SE of intercept = 7.8561 <br>\n",
    "                          Under Ho, t statistic = 141.9073/7.8561 = 18.0631 ~ t distribution with df = n-2 = 54 <br>\n",
    "                          p-value =  1.5e-24.<br>\n",
    "                          Since p-value < 0.05, we reject the Null Hypothesis Bo = 0. \n",
    " "
   ]
  },
  {
   "cell_type": "markdown",
   "metadata": {},
   "source": [
    "**4) Test for Ho : B1 =8 vs B1 != 8 at level 0.05**"
   ]
  },
  {
   "cell_type": "code",
   "execution_count": 10,
   "metadata": {},
   "outputs": [
    {
     "name": "stdout",
     "output_type": "stream",
     "text": [
      "[1] \"Slope value =  1.48517917008326\"\n",
      "[1] \"Standard Error of slope =  0.380583082357847\"\n",
      "[1] \"t-value =  -17.1179990175998\"\n",
      "[1] \"p-value = 8.97167196799356e-24\"\n"
     ]
    }
   ],
   "source": [
    "print(paste(\"Slope value = \" , model$coefficients[2]))\n",
    "print(paste(\"Standard Error of slope = \" , summary(model)$coefficients[2,2]))\n",
    "print(paste(\"t-value = \",(model$coefficients[2]-8)/(summary(model)$coefficients[2,2])))\n",
    "print(paste(\"p-value =\",pt((model$coefficients[2]-8)/(summary(model)$coefficients[2,2]) , 54) ))"
   ]
  },
  {
   "cell_type": "markdown",
   "metadata": {},
   "source": [
    "**Ans:** : From the model, <br> B1 (slope) = 1.4851 <br>\n",
    "                           SE of slope = 0.3805 <br>\n",
    "                          Under Ho, t statistic = (1.4851 - 8)/0.3805 = -17.1179 ~ t distribution with df = n-2 = 54 <br>\n",
    "                          p-value = 8.97e-24<br>\n",
    "                          Since p-value < 0.05, we reject the Null Hypothesis slope = 8. \n",
    " "
   ]
  },
  {
   "cell_type": "markdown",
   "metadata": {},
   "source": [
    "**5) Consider (X,Y) follows bivariate normal distribution. Find the regression of Y on X**"
   ]
  },
  {
   "cell_type": "markdown",
   "metadata": {},
   "source": [
    "**Ans:** When (X,Y) follows bivariate normal distribution, then <br> regression of Y on X =  **E(Y|X = x) = (µy) + (correlation*(Sy/Sx)*(x - µx)** "
   ]
  },
  {
   "cell_type": "code",
   "execution_count": 11,
   "metadata": {},
   "outputs": [
    {
     "name": "stdout",
     "output_type": "stream",
     "text": [
      "[1] \"µy =  172.398571428571\"\n",
      "[1] \"µx =  20.5303571428571\"\n",
      "[1] \"Sy =  6.86498663934909\"\n",
      "[1] \"Sx =  2.16794159958722\"\n",
      "[1] \"correlation =  0.469014999564399\"\n"
     ]
    }
   ],
   "source": [
    "print(paste(\"µy = \", mean(Y)))\n",
    "print(paste(\"µx = \", mean(X)))\n",
    "print(paste(\"Sy = \", sqrt(var(Y))))\n",
    "print(paste(\"Sx = \", sqrt(var(X))))\n",
    "print(paste(\"correlation = \", cor(X,Y)))"
   ]
  },
  {
   "cell_type": "markdown",
   "metadata": {},
   "source": [
    "Thus Regression of Y on X = E(Y|X=x ) = 172.3985 + 0.4690*(6.8649/2.1679)*(x - 20.5303) <br>\n",
    "or **172.3985 + 1.4851*(x-20.5303)**"
   ]
  },
  {
   "cell_type": "markdown",
   "metadata": {},
   "source": [
    "**Prediction on my data for x= 22.4 :** "
   ]
  },
  {
   "cell_type": "code",
   "execution_count": 12,
   "metadata": {},
   "outputs": [
    {
     "data": {
      "text/html": [
       "172.35350147"
      ],
      "text/latex": [
       "172.35350147"
      ],
      "text/markdown": [
       "172.35350147"
      ],
      "text/plain": [
       "[1] 172.3535"
      ]
     },
     "metadata": {},
     "output_type": "display_data"
    }
   ],
   "source": [
    "172.3985 + 1.4851*( mydata$X - 20.5303)"
   ]
  },
  {
   "cell_type": "markdown",
   "metadata": {},
   "source": [
    "**6) Consider  L1 norm and ﬁt a  simple linear regression model  for Y on X.**"
   ]
  },
  {
   "cell_type": "code",
   "execution_count": 13,
   "metadata": {},
   "outputs": [
    {
     "data": {
      "text/html": [
       "<dl class=dl-horizontal>\n",
       "\t<dt>Intercept</dt>\n",
       "\t\t<dd>135.583450317383</dd>\n",
       "\t<dt>X</dt>\n",
       "\t\t<dd>1.75172352790833</dd>\n",
       "</dl>\n"
      ],
      "text/latex": [
       "\\begin{description*}\n",
       "\\item[Intercept] 135.583450317383\n",
       "\\item[X] 1.75172352790833\n",
       "\\end{description*}\n"
      ],
      "text/markdown": [
       "Intercept\n",
       ":   135.583450317383X\n",
       ":   1.75172352790833\n",
       "\n"
      ],
      "text/plain": [
       " Intercept          X \n",
       "135.583450   1.751724 "
      ]
     },
     "metadata": {},
     "output_type": "display_data"
    }
   ],
   "source": [
    "library(L1pack)\n",
    "l1model = l1fit(X, Y, intercept = TRUE, tolerance = 1e-07, print.it = TRUE)\n",
    "l1model$coefficients"
   ]
  },
  {
   "cell_type": "markdown",
   "metadata": {},
   "source": [
    "Regression model for Y on X using L1 norm : 135.5834 + 1.7517*X<br>"
   ]
  },
  {
   "cell_type": "markdown",
   "metadata": {},
   "source": [
    "**Prediction on my data for x= 22.4 :** "
   ]
  },
  {
   "cell_type": "code",
   "execution_count": 14,
   "metadata": {},
   "outputs": [
    {
     "data": {
      "text/html": [
       "174.82148"
      ],
      "text/latex": [
       "174.82148"
      ],
      "text/markdown": [
       "174.82148"
      ],
      "text/plain": [
       "[1] 174.8215"
      ]
     },
     "metadata": {},
     "output_type": "display_data"
    }
   ],
   "source": [
    "135.5834 + 1.7517*22.4"
   ]
  },
  {
   "cell_type": "markdown",
   "metadata": {},
   "source": [
    "**(7) Plot the  there regression lines obtained in 1,5 and 6  in a diagram.**"
   ]
  },
  {
   "cell_type": "code",
   "execution_count": 15,
   "metadata": {},
   "outputs": [
    {
     "data": {
      "image/png": "[encoded data removed]",
      "text/plain": [
       "plot without title"
      ]
     },
     "metadata": {},
     "output_type": "display_data"
    }
   ],
   "source": [
    "plot(X,Y, pch = 16, col = \"blue\",xlab = \"palm_length(cm)\" , ylab = \"Height(cm)\") \n",
    "lines(seq(0,30,0.4) , 141.9744 + 1.4790*(seq(0,30,0.4)),type = \"l\", col = \"red\"  )  #Q1\n",
    "lines(seq(0,30,0.4) , 142.04+ 1.478*(seq(0,30,0.4)),type = \"l\", col = \"green\")    #Q5\n",
    "lines(seq(0,30,0.4) , 136.9875 + 1.6479*(seq(0,30,0.4)),type = \"l\", col = \"blue\")   #Q6"
   ]
  },
  {
   "cell_type": "markdown",
   "metadata": {},
   "source": [
    "Blue Line is line obtained by fitting regression line using L1 norm.<br>\n",
    "Red Line is least squares line.<br>\n",
    "Green Line is obtained by bivariate normal distribution."
   ]
  }
 ],
 "metadata": {
  "kernelspec": {
   "display_name": "R",
   "language": "R",
   "name": "ir"
  },
  "language_info": {
   "codemirror_mode": "r",
   "file_extension": ".r",
   "mimetype": "text/x-r-source",
   "name": "R",
   "pygments_lexer": "r",
   "version": "3.6.1"
  }
 },
 "nbformat": 4,
 "nbformat_minor": 2
}
